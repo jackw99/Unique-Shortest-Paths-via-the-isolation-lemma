{
 "cells": [
  {
   "cell_type": "markdown",
   "metadata": {},
   "source": [
    "# Dijkstra's with all possible s-t paths"
   ]
  },
  {
   "cell_type": "markdown",
   "metadata": {},
   "source": [
    "This code will present the user with the shortest path and all possible s-t paths"
   ]
  },
  {
   "cell_type": "code",
   "execution_count": 124,
   "metadata": {},
   "outputs": [],
   "source": [
    "import random\n",
    "from igraph import Graph"
   ]
  },
  {
   "cell_type": "code",
   "execution_count": 125,
   "metadata": {},
   "outputs": [],
   "source": [
    "#takes input of graph and m value for randomized arc lengths\n",
    "def create_graph():\n",
    "    #input of nodes\n",
    "    node_connections = []\n",
    "    #splitting and uppercasing nodes input\n",
    "    nodes = tuple(str(input(\"Please enter all nodes (Comma seperated, e.g., 'S, E, G, H, U, T')\\nYour Input: \")).split(', '))\n",
    "    print(f\"All nodes: {nodes}\")\n",
    "    #loop through nodes and get their connections\n",
    "    for n in nodes:\n",
    "        if n != 'T':\n",
    "            connections = str(input(f\"Please enter all nodes that node {n} connects to (Comma seperated, e.g., 'H, G, T')\\nYour Input: \")).split(', ')\n",
    "            node_connections.append(connections)\n",
    "        else:\n",
    "            break    \n",
    "    for i in range(len(nodes)-1):\n",
    "        print(f\"Node {nodes[i]} connects to {node_connections[i]}\") \n",
    "    #getting M value (upper bound of randomized arc weights)\n",
    "    m = int(input(\"Please Enter Your m Value(upper bound of randomized arc weights): \"))\n",
    "    \n",
    "    #storing dict representation of connections\n",
    "    all_conns = []\n",
    "    #loop through node connections and create temp dicts with node:weight\n",
    "    for n in node_connections:\n",
    "        temp_dict = {}\n",
    "        for i in n:\n",
    "            temp_dict[i] = random.randint(1, m)\n",
    "        all_conns.append(temp_dict)\n",
    "    \n",
    "    #creation of graph dict\n",
    "    graph = {}\n",
    "    for i in range(len(nodes)-1):\n",
    "        graph[nodes[i]] = all_conns[i]\n",
    "    graph['T'] = {}\n",
    "    return graph"
   ]
  },
  {
   "cell_type": "code",
   "execution_count": 135,
   "metadata": {},
   "outputs": [],
   "source": [
    "#conversion to igraph to present shortest graph and all s-t paths possible\n",
    "def solve_graph(graph):\n",
    "    #retrieving nodes, edges and weights\n",
    "    labels = [i for i in graph.keys()]\n",
    "    #getting weights of arcs in order for edges\n",
    "    nested_weights = [[i for i in j.values()] for j in graph.values()]\n",
    "    #flattening nested list\n",
    "    weights = [weight for i in nested_weights for weight in i]\n",
    "    #need to loop through dict, pairing key with subkeys in tuples - e.g., (S, E), (S, G)\n",
    "    edgs = [[(i[0], j) for j in i[1].keys()] for i in graph.items()]\n",
    "    pre_edges = [edge for i in edgs for edge in i]\n",
    "    #encode vertices from 0-len(nodes)\n",
    "    vertex_ids = {labels[i]: i for i in range(len(labels))}\n",
    "    edges = []\n",
    "    for edge in pre_edges:\n",
    "        edges.append((vertex_ids[edge[0]], vertex_ids[edge[1]]))\n",
    "    #Create graph\n",
    "    g = Graph(directed=True)\n",
    "\n",
    "    #add vertices\n",
    "    g.add_vertices(len(labels))\n",
    "    \n",
    "    #add edges between nodes\n",
    "    g.add_edges(edges)\n",
    "\n",
    "    #adding ids and labels to vertices\n",
    "    for i in range(len(g.vs)):\n",
    "        g.vs[i]['id']=i\n",
    "        g.vs[i]['label']=labels[i]\n",
    "\n",
    "    #adding weights and edge labels\n",
    "    g.es['weight'] = weights\n",
    "    g.es['label'] = weights\n",
    "    \n",
    "    #getting all s-t paths\n",
    "    all_paths = g.get_all_simple_paths(0, 6)\n",
    "    \n",
    "    #shortest path with built in dijkstra's\n",
    "    shortest = g.get_shortest_paths(0, 6)\n",
    "    \n",
    "    #showing shortest path retrieved from Dijkstra's\n",
    "    print(f\"Shortest S-T Path: {convert(shortest[0], labels)}\")\n",
    "    \n",
    "    #showing all possible s-t paths\n",
    "    print(f\"All possible S-T paths: {[convert(i, labels) for i in all_paths]}\")"
   ]
  },
  {
   "cell_type": "code",
   "execution_count": 132,
   "metadata": {},
   "outputs": [],
   "source": [
    "#function that takes a path as integers and returns as nodes\n",
    "def convert(path, nodes):\n",
    "    encoding = {i:nodes[i] for i in range(len(nodes))}\n",
    "    new_path = [encoding[i] for i in path]\n",
    "    return f\"Path: {', '.join(new_path)}\""
   ]
  },
  {
   "cell_type": "code",
   "execution_count": 128,
   "metadata": {},
   "outputs": [
    {
     "name": "stdout",
     "output_type": "stream",
     "text": [
      "Please enter all nodes (Comma seperated, e.g., 'S, E, G, H, U, T')\n",
      "Your Input: S, E, G, W, J, K, T\n",
      "All nodes: ('S', 'E', 'G', 'W', 'J', 'K', 'T')\n",
      "Please enter all nodes that node S connects to (Comma seperated, e.g., 'H, G, T')\n",
      "Your Input: E, G\n",
      "Please enter all nodes that node E connects to (Comma seperated, e.g., 'H, G, T')\n",
      "Your Input: W, J\n",
      "Please enter all nodes that node G connects to (Comma seperated, e.g., 'H, G, T')\n",
      "Your Input: J\n",
      "Please enter all nodes that node W connects to (Comma seperated, e.g., 'H, G, T')\n",
      "Your Input: K, T\n",
      "Please enter all nodes that node J connects to (Comma seperated, e.g., 'H, G, T')\n",
      "Your Input: K\n",
      "Please enter all nodes that node K connects to (Comma seperated, e.g., 'H, G, T')\n",
      "Your Input: T\n",
      "Node S connects to ['E', 'G']\n",
      "Node E connects to ['W', 'J']\n",
      "Node G connects to ['J']\n",
      "Node W connects to ['K', 'T']\n",
      "Node J connects to ['K']\n",
      "Node K connects to ['T']\n",
      "Please Enter Your m Value(upper bound of randomized arc weights): 50\n"
     ]
    }
   ],
   "source": [
    "graph = create_graph()"
   ]
  },
  {
   "cell_type": "code",
   "execution_count": 137,
   "metadata": {},
   "outputs": [
    {
     "name": "stdout",
     "output_type": "stream",
     "text": [
      "Shortest S-T Path: Path: S, E, W, T\n",
      "All possible S-T paths: ['Path: S, E, W, K, T', 'Path: S, E, W, T', 'Path: S, E, J, K, T', 'Path: S, G, J, K, T']\n"
     ]
    }
   ],
   "source": [
    "solve_graph(graph)"
   ]
  },
  {
   "cell_type": "code",
   "execution_count": null,
   "metadata": {},
   "outputs": [],
   "source": []
  }
 ],
 "metadata": {
  "kernelspec": {
   "display_name": "Python 3",
   "language": "python",
   "name": "python3"
  },
  "language_info": {
   "codemirror_mode": {
    "name": "ipython",
    "version": 3
   },
   "file_extension": ".py",
   "mimetype": "text/x-python",
   "name": "python",
   "nbconvert_exporter": "python",
   "pygments_lexer": "ipython3",
   "version": "3.8.3"
  }
 },
 "nbformat": 4,
 "nbformat_minor": 4
}
