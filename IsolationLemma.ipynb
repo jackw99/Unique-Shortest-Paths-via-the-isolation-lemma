{
  "nbformat": 4,
  "nbformat_minor": 0,
  "metadata": {
    "colab": {
      "name": "IsolationLemma.ipynb",
      "provenance": [],
      "collapsed_sections": []
    },
    "kernelspec": {
      "name": "python3",
      "display_name": "Python 3"
    },
    "language_info": {
      "name": "python"
    }
  },
  "cells": [
    {
      "cell_type": "markdown",
      "metadata": {
        "id": "0teSyE0hTl1z"
      },
      "source": [
        "#Unique Shortest Paths via the isolation lemma"
      ]
    },
    {
      "cell_type": "markdown",
      "metadata": {
        "id": "aZB7DdFmTqp9"
      },
      "source": [
        "Noam Ta-Shma's simplified proof"
      ]
    },
    {
      "cell_type": "code",
      "metadata": {
        "id": "vRxhv0XlU7V8"
      },
      "source": [
        "#itertools import for powerset calculation\n",
        "from itertools import chain, combinations\n",
        "\n",
        "#powerset function to get all subsets of a set\n",
        "def powerset(iterable):\n",
        "  s = list(iterable)\n",
        "  return chain.from_iterable(combinations(s, r) for r in range(1, len(s)+1))"
      ],
      "execution_count": null,
      "outputs": []
    },
    {
      "cell_type": "code",
      "metadata": {
        "colab": {
          "base_uri": "https://localhost:8080/"
        },
        "id": "KL-9AXPLTikE",
        "outputId": "0ee9b315-c5e3-4fc1-c782-62445079901e"
      },
      "source": [
        "#let n, m be two natural numbers\n",
        "n, m = 5, 10\n",
        "# (fourier) f is a subset or is equal to P([n]), where [n] is a set {1,...,n} and P([n]) is a set of all subsets of [n]\n",
        "set_n = {i for i in range(1, n+1)}\n",
        "powerset_p = list(powerset(set_n))\n",
        "print(f\"original set [n]: {set_n} \\npowerset P([n]): {powerset_p}\")"
      ],
      "execution_count": null,
      "outputs": [
        {
          "output_type": "stream",
          "text": [
            "original set [n]: {1, 2, 3, 4, 5} \n",
            "powerset P([n]): [(1,), (2,), (3,), (4,), (5,), (1, 2), (1, 3), (1, 4), (1, 5), (2, 3), (2, 4), (2, 5), (3, 4), (3, 5), (4, 5), (1, 2, 3), (1, 2, 4), (1, 2, 5), (1, 3, 4), (1, 3, 5), (1, 4, 5), (2, 3, 4), (2, 3, 5), (2, 4, 5), (3, 4, 5), (1, 2, 3, 4), (1, 2, 3, 5), (1, 2, 4, 5), (1, 3, 4, 5), (2, 3, 4, 5), (1, 2, 3, 4, 5)]\n"
          ],
          "name": "stdout"
        }
      ]
    },
    {
      "cell_type": "markdown",
      "metadata": {
        "id": "TcQYNk9Ca56l"
      },
      "source": [
        "given a weight function w, we extend it to sets by defining the weight of a set to be the sum of the weights of its elements. \n",
        "- w(S) = sum all w(x) in the set S"
      ]
    },
    {
      "cell_type": "code",
      "metadata": {
        "colab": {
          "base_uri": "https://localhost:8080/"
        },
        "id": "jGH4U_r3WYjE",
        "outputId": "485c1a93-8e0f-4d2c-e8c4-c4cd088b4b4e"
      },
      "source": [
        "#weight function: w = 2x^2 - 3x + 10\n",
        "def weight(x):\n",
        "  return (2*(x**2)) - (3*x) + 10\n",
        "\n",
        "#example set\n",
        "nums = {3, 4, 7, 8, 9}\n",
        "\n",
        "#getting weight of set\n",
        "w = 0\n",
        "for num in nums:\n",
        "  w += weight(num)\n",
        "print(f\"Weight of set {nums} is: {w}\")"
      ],
      "execution_count": null,
      "outputs": [
        {
          "output_type": "stream",
          "text": [
            "Weight of set {3, 4, 7, 8, 9} is: 395\n"
          ],
          "name": "stdout"
        }
      ]
    },
    {
      "cell_type": "markdown",
      "metadata": {
        "id": "fuXHn2QGeCDA"
      },
      "source": [
        "let (fourier) f be the family of sets with the smallest weight amongst f with respect to w\n",
        " "
      ]
    },
    {
      "cell_type": "code",
      "metadata": {
        "colab": {
          "base_uri": "https://localhost:8080/"
        },
        "id": "9gMWTTW4b5pc",
        "outputId": "4bf014ed-c013-4280-8380-f1e6983d2e0d"
      },
      "source": [
        "#form earlier set {1, 2, 3, 4, 5} and calculated powerset, minimum weights shown below\n",
        "weights = []\n",
        "for i in powerset_p:\n",
        "  temp_w = []\n",
        "  for j in i:\n",
        "    temp_w.append(weight(j))\n",
        "  weights.append(sum(temp_w))\n",
        "\n",
        "print(f\"Set with lowest weight of {min(weights)} is: {powerset_p[0]}\")"
      ],
      "execution_count": null,
      "outputs": [
        {
          "output_type": "stream",
          "text": [
            "Set with lowest weight of 9 is: (1,)\n"
          ],
          "name": "stdout"
        }
      ]
    },
    {
      "cell_type": "code",
      "metadata": {
        "id": "iQco_MAP_yqA"
      },
      "source": [
        ""
      ],
      "execution_count": null,
      "outputs": []
    }
  ]
}