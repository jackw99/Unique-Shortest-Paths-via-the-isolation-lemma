{
 "cells": [
  {
   "cell_type": "markdown",
   "metadata": {},
   "source": [
    "### Testing boundtest and graphs file"
   ]
  },
  {
   "cell_type": "code",
   "execution_count": 2,
   "metadata": {},
   "outputs": [],
   "source": [
    "import graphs as g\n",
    "import test as test"
   ]
  },
  {
   "cell_type": "code",
   "execution_count": 3,
   "metadata": {},
   "outputs": [
    {
     "data": {
      "text/plain": [
       "18"
      ]
     },
     "execution_count": 3,
     "metadata": {},
     "output_type": "execute_result"
    }
   ],
   "source": [
    "# display arcs of a graph\n",
    "g.get_arcs('medium4')"
   ]
  },
  {
   "cell_type": "code",
   "execution_count": 4,
   "metadata": {},
   "outputs": [
    {
     "data": {
      "text/plain": [
       "['small', 'medium', 'medium2', 'medium3', 'medium4', 'medium5', 'large']"
      ]
     },
     "execution_count": 4,
     "metadata": {},
     "output_type": "execute_result"
    }
   ],
   "source": [
    "# display all possible graphs\n",
    "g.all_graphs()"
   ]
  },
  {
   "cell_type": "code",
   "execution_count": 13,
   "metadata": {},
   "outputs": [
    {
     "name": "stdout",
     "output_type": "stream",
     "text": [
      "Small Graph:\n",
      "\n",
      "Arcs: 9\n",
      "\n",
      "---------------------------\n",
      "\n",
      "m = 100\n",
      "\n",
      "Unique Path Found 99.4%\n",
      "\n",
      "Ta Shma's Bound: 91.0%\n",
      "\n",
      "---------------------------\n"
     ]
    }
   ],
   "source": [
    "# small graph\n",
    "print(f\"Small Graph:\\n\\nArcs: {g.get_arcs('small')}\\n\")\n",
    "test.test_bound(g.get('small'), 100)"
   ]
  },
  {
   "cell_type": "code",
   "execution_count": 7,
   "metadata": {},
   "outputs": [
    {
     "name": "stdout",
     "output_type": "stream",
     "text": [
      "Mediumn Graph 1:\n",
      "\n",
      "Arcs: 23\n",
      "\n",
      "---------------------------\n",
      "\n",
      "m = 100\n",
      "\n",
      "Unique Path Found 100.0%\n",
      "\n",
      "Ta Shma's Bound: 79.0%\n",
      "\n",
      "---------------------------\n"
     ]
    }
   ],
   "source": [
    "#medium graph 1\n",
    "print(f\"Mediumn Graph 1:\\n\\nArcs: {g.get_arcs('medium')}\\n\")\n",
    "test.test_bound(g.get('medium'), 100)"
   ]
  },
  {
   "cell_type": "code",
   "execution_count": 9,
   "metadata": {},
   "outputs": [
    {
     "name": "stdout",
     "output_type": "stream",
     "text": [
      "Mediumn Graph 2:\n",
      "\n",
      "Arcs: 18\n",
      "\n",
      "---------------------------\n",
      "\n",
      "m = 100\n",
      "\n",
      "Unique Path Found 98.6%\n",
      "\n",
      "Ta Shma's Bound: 83.0%\n",
      "\n",
      "---------------------------\n"
     ]
    }
   ],
   "source": [
    "#medium graph 2\n",
    "print(f\"Mediumn Graph 2:\\n\\nArcs: {g.get_arcs('medium2')}\\n\")\n",
    "test.test_bound(g.get('medium2'), 100)"
   ]
  },
  {
   "cell_type": "code",
   "execution_count": 10,
   "metadata": {},
   "outputs": [
    {
     "name": "stdout",
     "output_type": "stream",
     "text": [
      "Mediumn Graph 3:\n",
      "\n",
      "Arcs: 12\n",
      "\n",
      "---------------------------\n",
      "\n",
      "m = 100\n",
      "\n",
      "Unique Path Found 99.4%\n",
      "\n",
      "Ta Shma's Bound: 89.0%\n",
      "\n",
      "---------------------------\n"
     ]
    }
   ],
   "source": [
    "#medium graph 3\n",
    "print(f\"Mediumn Graph 3:\\n\\nArcs: {g.get_arcs('medium3')}\\n\")\n",
    "test.test_bound(g.get('medium3'), 100)"
   ]
  },
  {
   "cell_type": "code",
   "execution_count": 11,
   "metadata": {},
   "outputs": [
    {
     "name": "stdout",
     "output_type": "stream",
     "text": [
      "Mediumn Graph 4:\n",
      "\n",
      "Arcs: 18\n",
      "\n",
      "---------------------------\n",
      "\n",
      "m = 100\n",
      "\n",
      "Unique Path Found 99.2%\n",
      "\n",
      "Ta Shma's Bound: 83.0%\n",
      "\n",
      "---------------------------\n"
     ]
    }
   ],
   "source": [
    "#medium graph 4\n",
    "print(f\"Mediumn Graph 4:\\n\\nArcs: {g.get_arcs('medium4')}\\n\")\n",
    "test.test_bound(g.get('medium4'), 100)"
   ]
  },
  {
   "cell_type": "code",
   "execution_count": 12,
   "metadata": {},
   "outputs": [
    {
     "name": "stdout",
     "output_type": "stream",
     "text": [
      "Mediumn Graph 5:\n",
      "\n",
      "Arcs: 30\n",
      "\n",
      "---------------------------\n",
      "\n",
      "m = 100\n",
      "\n",
      "Unique Path Found 99.3%\n",
      "\n",
      "Ta Shma's Bound: 74.0%\n",
      "\n",
      "---------------------------\n"
     ]
    }
   ],
   "source": [
    "#medium graph 5\n",
    "print(f\"Mediumn Graph 5:\\n\\nArcs: {g.get_arcs('medium5')}\\n\")\n",
    "test.test_bound(g.get('medium5'), 100)"
   ]
  },
  {
   "cell_type": "code",
   "execution_count": 14,
   "metadata": {},
   "outputs": [
    {
     "name": "stdout",
     "output_type": "stream",
     "text": [
      "Large Graph:\n",
      "\n",
      "Arcs: 23\n",
      "\n",
      "---------------------------\n",
      "\n",
      "m = 100\n",
      "\n",
      "Unique Path Found 99.0%\n",
      "\n",
      "Ta Shma's Bound: 48.0%\n",
      "\n",
      "---------------------------\n"
     ]
    }
   ],
   "source": [
    "# Large graph\n",
    "print(f\"Large Graph:\\n\\nArcs: {g.get_arcs('medium')}\\n\")\n",
    "test.test_bound(g.get('large'), 100)"
   ]
  },
  {
   "cell_type": "code",
   "execution_count": null,
   "metadata": {},
   "outputs": [],
   "source": []
  }
 ],
 "metadata": {
  "kernelspec": {
   "display_name": "Python 3",
   "language": "python",
   "name": "python3"
  },
  "language_info": {
   "codemirror_mode": {
    "name": "ipython",
    "version": 3
   },
   "file_extension": ".py",
   "mimetype": "text/x-python",
   "name": "python",
   "nbconvert_exporter": "python",
   "pygments_lexer": "ipython3",
   "version": "3.8.3"
  }
 },
 "nbformat": 4,
 "nbformat_minor": 4
}
