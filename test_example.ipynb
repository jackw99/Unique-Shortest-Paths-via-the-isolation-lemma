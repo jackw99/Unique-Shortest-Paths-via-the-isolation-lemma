{
 "cells": [
  {
   "cell_type": "markdown",
   "metadata": {},
   "source": [
    "### Testing boundtest and graphs file"
   ]
  },
  {
   "cell_type": "code",
   "execution_count": 1,
   "metadata": {},
   "outputs": [],
   "source": [
    "import graphs as g\n",
    "import boundtest as test"
   ]
  },
  {
   "cell_type": "code",
   "execution_count": 2,
   "metadata": {},
   "outputs": [
    {
     "name": "stdout",
     "output_type": "stream",
     "text": [
      "***RESULTS***\n",
      "\n",
      "---------------------------\n",
      "\n",
      "m = 10\n",
      "\n",
      "Unique Path Found 71.7%\n",
      "\n",
      "Ta Shma's Bound: 39.0%\n",
      "\n",
      "---------------------------\n",
      "\n",
      "m = 20\n",
      "\n",
      "Unique Path Found 74.2%\n",
      "\n",
      "Ta Shma's Bound: 63.0%\n",
      "\n",
      "---------------------------\n",
      "\n",
      "m = 30\n",
      "\n",
      "Unique Path Found 74.2%\n",
      "\n",
      "Ta Shma's Bound: 74.0%\n",
      "\n",
      "\n",
      "*****************\n",
      "\n",
      "BOUND FAILED ON m = 34\n",
      "\n",
      "******************\n"
     ]
    }
   ],
   "source": [
    "test.run(g.get('small'))"
   ]
  },
  {
   "cell_type": "code",
   "execution_count": 3,
   "metadata": {},
   "outputs": [
    {
     "name": "stdout",
     "output_type": "stream",
     "text": [
      "***RESULTS***\n",
      "\n",
      "---------------------------\n",
      "\n",
      "m = 10\n",
      "\n",
      "Unique Path Found 100.0%\n",
      "\n",
      "Ta Shma's Bound: 9.0%\n",
      "\n",
      "---------------------------\n",
      "\n",
      "m = 20\n",
      "\n",
      "Unique Path Found 100.0%\n",
      "\n",
      "Ta Shma's Bound: 31.0%\n",
      "\n",
      "---------------------------\n",
      "\n",
      "m = 30\n",
      "\n",
      "Unique Path Found 100.0%\n",
      "\n",
      "Ta Shma's Bound: 46.0%\n",
      "\n",
      "---------------------------\n",
      "\n",
      "m = 40\n",
      "\n",
      "Unique Path Found 100.0%\n",
      "\n",
      "Ta Shma's Bound: 56.00000000000001%\n",
      "\n",
      "---------------------------\n",
      "\n",
      "m = 50\n",
      "\n",
      "Unique Path Found 100.0%\n",
      "\n",
      "Ta Shma's Bound: 63.0%\n",
      "\n",
      "---------------------------\n",
      "\n",
      "m = 60\n",
      "\n",
      "Unique Path Found 100.0%\n",
      "\n",
      "Ta Shma's Bound: 68.0%\n",
      "\n",
      "---------------------------\n",
      "\n",
      "m = 70\n",
      "\n",
      "Unique Path Found 100.0%\n",
      "\n",
      "Ta Shma's Bound: 72.0%\n",
      "\n",
      "---------------------------\n",
      "\n",
      "m = 80\n",
      "\n",
      "Unique Path Found 100.0%\n",
      "\n",
      "Ta Shma's Bound: 75.0%\n",
      "\n",
      "---------------------------\n",
      "\n",
      "m = 90\n",
      "\n",
      "Unique Path Found 100.0%\n",
      "\n",
      "Ta Shma's Bound: 77.0%\n",
      "\n",
      "---------------------------\n",
      "\n",
      "m = 100\n",
      "\n",
      "Unique Path Found 100.0%\n",
      "\n",
      "Ta Shma's Bound: 79.0%\n",
      "\n",
      "\n",
      "*****************\n",
      "\n",
      "\n",
      "BOUND HELD!\n",
      "\n",
      "\n",
      "******************\n"
     ]
    }
   ],
   "source": [
    "test.run(g.get('medium'))"
   ]
  },
  {
   "cell_type": "code",
   "execution_count": 4,
   "metadata": {},
   "outputs": [
    {
     "name": "stdout",
     "output_type": "stream",
     "text": [
      "Graph pdf Generated\n"
     ]
    },
    {
     "data": {
      "text/plain": [
       "True"
      ]
     },
     "execution_count": 4,
     "metadata": {},
     "output_type": "execute_result"
    }
   ],
   "source": [
    "g.render('small')"
   ]
  },
  {
   "cell_type": "code",
   "execution_count": 5,
   "metadata": {},
   "outputs": [
    {
     "name": "stdout",
     "output_type": "stream",
     "text": [
      "Graph pdf Generated\n"
     ]
    },
    {
     "data": {
      "text/plain": [
       "True"
      ]
     },
     "execution_count": 5,
     "metadata": {},
     "output_type": "execute_result"
    }
   ],
   "source": [
    "g.render('medium')"
   ]
  },
  {
   "cell_type": "code",
   "execution_count": 6,
   "metadata": {},
   "outputs": [
    {
     "name": "stdout",
     "output_type": "stream",
     "text": [
      "Graph pdf Generated\n"
     ]
    },
    {
     "data": {
      "text/plain": [
       "True"
      ]
     },
     "execution_count": 6,
     "metadata": {},
     "output_type": "execute_result"
    }
   ],
   "source": [
    "g.render('large')"
   ]
  },
  {
   "cell_type": "code",
   "execution_count": null,
   "metadata": {},
   "outputs": [],
   "source": []
  }
 ],
 "metadata": {
  "kernelspec": {
   "display_name": "Python 3",
   "language": "python",
   "name": "python3"
  },
  "language_info": {
   "codemirror_mode": {
    "name": "ipython",
    "version": 3
   },
   "file_extension": ".py",
   "mimetype": "text/x-python",
   "name": "python",
   "nbconvert_exporter": "python",
   "pygments_lexer": "ipython3",
   "version": "3.8.3"
  }
 },
 "nbformat": 4,
 "nbformat_minor": 4
}
