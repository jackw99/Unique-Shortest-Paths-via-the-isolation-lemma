{
 "cells": [
  {
   "cell_type": "markdown",
   "metadata": {},
   "source": [
    "## Unique Shortest Repeated"
   ]
  },
  {
   "cell_type": "code",
   "execution_count": 168,
   "metadata": {},
   "outputs": [],
   "source": [
    "#libraries needed\n",
    "from graphviz import Digraph\n",
    "from random import randint\n",
    "from statistics import mean\n",
    "import copy"
   ]
  },
  {
   "cell_type": "markdown",
   "metadata": {},
   "source": [
    "Dijkstra's for multiple shortest paths"
   ]
  },
  {
   "cell_type": "code",
   "execution_count": 5,
   "metadata": {},
   "outputs": [],
   "source": [
    "#my own dijkstra's, returns multiple shortest paths\n",
    "def wijkstra(graph, source, destination):\n",
    "    paths = []\n",
    "    current = source\n",
    "    vertices = {vertex for vertex in graph.keys()}\n",
    "    distances = {vertex: float(\"inf\") for vertex in vertices}\n",
    "    previous = {vertex: None for vertex in vertices}\n",
    "    distances[source] = 0\n",
    "    \n",
    "    while len(vertices) > 0:\n",
    "        #make a temp set with only vertices still in vertices\n",
    "        temp_dists = {i: distances[i] for i in distances.keys() if i in vertices}\n",
    "        current = min(temp_dists, key=temp_dists.get)\n",
    "        vertices.remove(current)\n",
    "    \n",
    "        for neighbour in graph[current].items():\n",
    "            alt = distances[current] + neighbour[1]\n",
    "            if alt <= distances[neighbour[0]]:\n",
    "                distances[neighbour[0]] = alt\n",
    "                previous[neighbour[0]] = current\n",
    "                #if the end node has a value, store that path\n",
    "                if distances[destination] != float(\"inf\"):\n",
    "                    temp_prev = copy.deepcopy(previous)\n",
    "                    paths.append(temp_prev)\n",
    "    return (distances, paths, distances[destination])"
   ]
  },
  {
   "cell_type": "markdown",
   "metadata": {},
   "source": [
    "Randomize graph function"
   ]
  },
  {
   "cell_type": "code",
   "execution_count": 7,
   "metadata": {},
   "outputs": [],
   "source": [
    "def gen_graph(m):\n",
    "    #temp graph dict\n",
    "    graph = {'S': {'E': 3, 'G': 2},\n",
    "         'E': {'W': 4, 'J': 6},\n",
    "         'G': {'J': 3},\n",
    "         'W': {'K': 1, 'T': 2},\n",
    "         'J': {'K': 5},\n",
    "         'K': {'T': 1},\n",
    "         'T': {}}\n",
    "    \n",
    "    #randomization of arcs\n",
    "    for key in graph.keys():\n",
    "        for sub_key in graph[key].keys():\n",
    "            graph[key][sub_key] = randint(1, m)\n",
    "    \n",
    "    return graph"
   ]
  },
  {
   "cell_type": "markdown",
   "metadata": {},
   "source": [
    "Initialize graph to be repeated"
   ]
  },
  {
   "cell_type": "code",
   "execution_count": 108,
   "metadata": {},
   "outputs": [],
   "source": [
    "def random_graph(m, start, end):\n",
    "    #random graph\n",
    "    graph = gen_graph(m)\n",
    "\n",
    "    #dijkstra's for shortest paths\n",
    "    edge_distances, shortest_paths, shortest_distance = wijkstra(graph, start, end)\n",
    "\n",
    "    #use 'previous' dict to determine shortest path\n",
    "    all_paths = []\n",
    "    for previous in shortest_paths:\n",
    "        source, target = start, end\n",
    "        path = [target]\n",
    "        current = target\n",
    "        while current != source:\n",
    "            #loop back through dictionary\n",
    "            current = previous[current]\n",
    "            path.insert(0, current)\n",
    "        all_paths.append(path)\n",
    "        #shortest_paths.append(path)\n",
    "        #print(f\"\\nShortest Path: {path} with length: {shortest_distance}\")\n",
    "\n",
    "    #removing duplicate paths\n",
    "    unique_paths = [list(y) for y in set([tuple(x) for x in all_paths])]\n",
    "    return len(unique_paths)"
   ]
  },
  {
   "cell_type": "markdown",
   "metadata": {},
   "source": [
    "User Input for Randomisation"
   ]
  },
  {
   "cell_type": "code",
   "execution_count": 176,
   "metadata": {},
   "outputs": [],
   "source": [
    "def average_accuracy(m, start, end, n):\n",
    "\n",
    "    #run 100 times\n",
    "    all_shortest_paths = [random_graph(m, start, end) for i in range(1000)]\n",
    "\n",
    "    #how many times unique path found\n",
    "    #print(f\"Iterations with a unique path: {all_shortest_paths.count(1)/10}%\")\n",
    "    return all_shortest_paths.count(1)/10"
   ]
  },
  {
   "cell_type": "code",
   "execution_count": 179,
   "metadata": {},
   "outputs": [
    {
     "name": "stdout",
     "output_type": "stream",
     "text": [
      "Enter M Value: 20\n",
      "\n",
      "Enter Starting Node: s\n",
      "\n",
      "Enter Finishing Node: t\n",
      "\n",
      "How many iterations of 1000 random graphs: 10\n",
      "\n",
      "\n",
      "***RESULTS***\n",
      "Unique Shortest Path Found 72.5% of time\n",
      "\n",
      "Ta Shma's Probability Estimation that this given smallest path is unique: 100.0%\n"
     ]
    }
   ],
   "source": [
    "#inputs for key variables\n",
    "m = int(input('Enter M Value: '))\n",
    "start = input('\\nEnter Starting Node: ').upper()\n",
    "end = input('\\nEnter Finishing Node: ').upper()\n",
    "iterations = int(input('\\nHow many iterations of 1000 random graphs: '))\n",
    "\n",
    "#average accuracy over n runs\n",
    "accuracy_scores = [average_accuracy(m, start, end, iterations) for i in range(n)]\n",
    "\n",
    "#average accuracy\n",
    "print(f\"\\n\\n***RESULTS***\\nUnique Shortest Path Found {mean(accuracy_scores)}% of time\")\n",
    "\n",
    "#Ta-Shma's estimation\n",
    "arcs = sum([len(i.keys()) for i in graph.values()])\n",
    "print(f\"\\nTa Shma's Probability Estimation that this given smallest path is unique: {round(1 - (1/m)**arcs, 2)*100}%\")"
   ]
  },
  {
   "cell_type": "code",
   "execution_count": null,
   "metadata": {},
   "outputs": [],
   "source": []
  }
 ],
 "metadata": {
  "kernelspec": {
   "display_name": "Python 3",
   "language": "python",
   "name": "python3"
  },
  "language_info": {
   "codemirror_mode": {
    "name": "ipython",
    "version": 3
   },
   "file_extension": ".py",
   "mimetype": "text/x-python",
   "name": "python",
   "nbconvert_exporter": "python",
   "pygments_lexer": "ipython3",
   "version": "3.8.3"
  }
 },
 "nbformat": 4,
 "nbformat_minor": 4
}
