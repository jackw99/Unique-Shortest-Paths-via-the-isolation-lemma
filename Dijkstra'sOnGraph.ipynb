{
  "nbformat": 4,
  "nbformat_minor": 0,
  "metadata": {
    "colab": {
      "name": "Dijkstra'sOnGraph.ipynb",
      "provenance": [],
      "collapsed_sections": []
    },
    "kernelspec": {
      "name": "python3",
      "display_name": "Python 3"
    },
    "language_info": {
      "name": "python"
    }
  },
  "cells": [
    {
      "cell_type": "markdown",
      "metadata": {
        "id": "n05eKshCvzR7"
      },
      "source": [
        "#Dijkstra's Algorithm\n",
        "####This Program will perform Dijkstra's Algorithm on a user inputted graph"
      ]
    },
    {
      "cell_type": "code",
      "metadata": {
        "id": "dyw8d0frvpKs"
      },
      "source": [
        "#libraries\n",
        "import random\n",
        "from graphviz import Digraph"
      ],
      "execution_count": 11,
      "outputs": []
    },
    {
      "cell_type": "markdown",
      "metadata": {
        "id": "1lFCtGbFwFWN"
      },
      "source": [
        "#####Graph Input Function"
      ]
    },
    {
      "cell_type": "code",
      "metadata": {
        "id": "n_6dFbLqv-vd"
      },
      "source": [
        "def inputGraph():\n",
        "  #input of nodes\n",
        "  node_connections = []\n",
        "  #splitting and uppercasing nodes input\n",
        "  nodes = tuple(str(input(\"Please enter all nodes (Comma seperated, e.g., 'S, E, G, H, U, T')\\nYour Input: \")).split(', '))\n",
        "  print(f\"All nodes: {nodes}\")\n",
        "  #loop through nodes and get their connections\n",
        "  for n in nodes:\n",
        "    if n != 'T':\n",
        "      connections = str(input(f\"Please enter all nodes that node {n} connects to (Comma seperated, e.g., 'H, G, T')\\nYour Input: \")).split(', ')\n",
        "      node_connections.append(connections)\n",
        "    else:\n",
        "      break    \n",
        "  for i in range(len(nodes)-1):\n",
        "    print(f\"Node {nodes[i]} connects to {node_connections[i]}\") \n",
        "  #getting M value (upper bound of randomized arc weights)\n",
        "  m = int(input(\"Please Enter Your m Value(upper bound of randomized arc weights): \"))\n",
        "  return (nodes, node_connections, m)"
      ],
      "execution_count": 4,
      "outputs": []
    },
    {
      "cell_type": "markdown",
      "metadata": {
        "id": "wPkt4g1QwSvd"
      },
      "source": [
        "Randomizing Arc weights"
      ]
    },
    {
      "cell_type": "code",
      "metadata": {
        "id": "6MmFfA7RwS-s"
      },
      "source": [
        "def randomArcs(m, node_connections):\n",
        "  #storing dict representation of connections\n",
        "  all_conns = []\n",
        "  #loop through node connections and create temp dicts with node:weight\n",
        "  for n in node_connections:\n",
        "    temp_dict = {}\n",
        "    for i in n:\n",
        "      temp_dict[i] = random.randint(1, m)\n",
        "    all_conns.append(temp_dict)\n",
        "  return all_conns"
      ],
      "execution_count": 5,
      "outputs": []
    },
    {
      "cell_type": "markdown",
      "metadata": {
        "id": "dnR3Xd-rwTc8"
      },
      "source": [
        "Format Graph Data"
      ]
    },
    {
      "cell_type": "code",
      "metadata": {
        "id": "QaT59Oq1wTkm"
      },
      "source": [
        "def createGraph(nodes, connections):\n",
        "  #loop through nodes and all temp dicts, append all to super dict\n",
        "  graph = {}\n",
        "  for i in range(len(nodes)-1):\n",
        "    graph[nodes[i]] = connections[i]\n",
        "  graph['T'] = {}\n",
        "  return graph"
      ],
      "execution_count": 6,
      "outputs": []
    },
    {
      "cell_type": "markdown",
      "metadata": {
        "id": "qF6egS22wTsA"
      },
      "source": [
        "Plotting Graph"
      ]
    },
    {
      "cell_type": "code",
      "metadata": {
        "id": "9_B0-f8zwT0J"
      },
      "source": [
        "def plot(graph, nodes):\n",
        "  #code for graph\n",
        "  g = Digraph('User Entered Graph', filename='UsersDigraph.gv')\n",
        "  g.attr(size='8,5')\n",
        "  g.attr('node', shape='circle')\n",
        "\n",
        "  #Looping through nodes creating object for each\n",
        "  for n in nodes:\n",
        "    g.node(n)\n",
        "\n",
        "  #looping through dict of connections for each node\n",
        "  for n, arcs in graph.items():\n",
        "    #print(f\"Node: {n}, Connections: {arcs}\")\n",
        "    #print(type(arcs))\n",
        "    #nested loop to create all arcs with weights\n",
        "    for arc in list(arcs.items()):\n",
        "      g.edge(n, arc[0], label=str(arc[1]))\n",
        "\n",
        "  g"
      ],
      "execution_count": 7,
      "outputs": []
    },
    {
      "cell_type": "markdown",
      "metadata": {
        "id": "36-YzfhGwT6m"
      },
      "source": [
        "Dijkstra's"
      ]
    },
    {
      "cell_type": "code",
      "metadata": {
        "id": "Rca8R8t_wUAl"
      },
      "source": [
        "def dijkstra(nodes, graph):\n",
        "  #dijkstra's through unordered dict\n",
        "  unvisited = {node: None for node in nodes} #using None as infinity\n",
        "  visited = {}\n",
        "  current = 'S'\n",
        "  currentDistance = 0\n",
        "  unvisited[current] = currentDistance\n",
        "\n",
        "  while True:\n",
        "      for neighbour, distance in graph[current].items():\n",
        "          if neighbour not in unvisited: continue\n",
        "          newDistance = currentDistance + distance\n",
        "          if unvisited[neighbour] is None or unvisited[neighbour] > newDistance:\n",
        "              unvisited[neighbour] = newDistance\n",
        "      visited[current] = currentDistance\n",
        "      del unvisited[current]\n",
        "      if not unvisited: break\n",
        "      candidates = [node for node in unvisited.items() if node[1]]\n",
        "      current, currentDistance = sorted(candidates, key = lambda x: x[1])[0]\n",
        "\n",
        "  print(f\"Shortest Distance to Each Node: {visited}\")\n",
        "  print(f\"Shortest S-T path is {visited['T']}\")"
      ],
      "execution_count": 8,
      "outputs": []
    },
    {
      "cell_type": "code",
      "metadata": {
        "id": "N_YaCGY9xC7T",
        "colab": {
          "base_uri": "https://localhost:8080/"
        },
        "outputId": "c7f20459-c673-4eff-8469-0733503867fc"
      },
      "source": [
        "#calling for initial input\n",
        "initial_graph = inputGraph()\n",
        "#retrieving nodes, arcs and m for randomization of arcs\n",
        "nodes, arcs, m = initial_graph[0], initial_graph[1], initial_graph[2]\n",
        "#randomizing arc weights\n",
        "weighted_arcs = randomArcs(m, arcs)\n",
        "#getting final graph form\n",
        "final_graph = createGraph(nodes, weighted_arcs)\n",
        "#plotting graph\n",
        "plot(final_graph, nodes)\n",
        "#applying Dijkstra's\n",
        "dijkstra(nodes, final_graph)"
      ],
      "execution_count": 13,
      "outputs": [
        {
          "output_type": "stream",
          "text": [
            "Please enter all nodes (Comma seperated, e.g., 'S, E, G, H, U, T')\n",
            "Your Input: S, E, G, J, W, K, T\n",
            "All nodes: ('S', 'E', 'G', 'J', 'W', 'K', 'T')\n",
            "Please enter all nodes that node S connects to (Comma seperated, e.g., 'H, G, T')\n",
            "Your Input: E, G\n",
            "Please enter all nodes that node E connects to (Comma seperated, e.g., 'H, G, T')\n",
            "Your Input: W, J\n",
            "Please enter all nodes that node G connects to (Comma seperated, e.g., 'H, G, T')\n",
            "Your Input: J\n",
            "Please enter all nodes that node J connects to (Comma seperated, e.g., 'H, G, T')\n",
            "Your Input: K\n",
            "Please enter all nodes that node W connects to (Comma seperated, e.g., 'H, G, T')\n",
            "Your Input: K, T\n",
            "Please enter all nodes that node K connects to (Comma seperated, e.g., 'H, G, T')\n",
            "Your Input: T\n",
            "Node S connects to ['E', 'G']\n",
            "Node E connects to ['W', 'J']\n",
            "Node G connects to ['J']\n",
            "Node J connects to ['K']\n",
            "Node W connects to ['K', 'T']\n",
            "Node K connects to ['T']\n",
            "Please Enter Your m Value(upper bound of randomized arc weights): 20\n",
            "Node: S, Connections: {'E': 10, 'G': 1}\n",
            "<class 'dict'>\n",
            "Node: E, Connections: {'W': 17, 'J': 13}\n",
            "<class 'dict'>\n",
            "Node: G, Connections: {'J': 8}\n",
            "<class 'dict'>\n",
            "Node: J, Connections: {'K': 15}\n",
            "<class 'dict'>\n",
            "Node: W, Connections: {'K': 12, 'T': 8}\n",
            "<class 'dict'>\n",
            "Node: K, Connections: {'T': 19}\n",
            "<class 'dict'>\n",
            "Node: T, Connections: {}\n",
            "<class 'dict'>\n",
            "{'S': 0, 'G': 1, 'J': 9, 'E': 10, 'K': 24, 'W': 27, 'T': 35}\n",
            "Shortest S-T path is 35\n"
          ],
          "name": "stdout"
        }
      ]
    },
    {
      "cell_type": "code",
      "metadata": {
        "id": "DH13hkuW-yXK"
      },
      "source": [
        ""
      ],
      "execution_count": null,
      "outputs": []
    }
  ]
}