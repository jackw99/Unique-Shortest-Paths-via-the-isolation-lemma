{
 "cells": [
  {
   "cell_type": "markdown",
   "metadata": {},
   "source": [
    "# Dijkstra's with all possible s-t paths"
   ]
  },
  {
   "cell_type": "markdown",
   "metadata": {},
   "source": [
    "This code will present the user with the shortest path and all possible s-t paths"
   ]
  },
  {
   "cell_type": "code",
   "execution_count": 2,
   "metadata": {},
   "outputs": [],
   "source": [
    "import random\n",
    "from igraph import Graph, plot\n",
    "from graphviz import Digraph"
   ]
  },
  {
   "cell_type": "code",
   "execution_count": 3,
   "metadata": {},
   "outputs": [],
   "source": [
    "#takes input of graph and m value for randomized arc lengths\n",
    "def create_graph():\n",
    "    #input of nodes\n",
    "    node_connections = []\n",
    "    #splitting and uppercasing nodes input\n",
    "    nodes = tuple(str(input(\"Please enter all nodes (Comma seperated, e.g., 'S, E, G, H, U, T')\\nYour Input: \")).split(', '))\n",
    "    print(f\"All nodes: {nodes}\")\n",
    "    #loop through nodes and get their connections\n",
    "    for n in nodes:\n",
    "        if n != 'T':\n",
    "            connections = str(input(f\"Please enter all nodes that node {n} connects to, from left to right (Comma seperated, e.g., 'H, G, T')\\nYour Input: \")).split(', ')\n",
    "            node_connections.append(connections)\n",
    "        else:\n",
    "            break    \n",
    "    for i in range(len(nodes)-1):\n",
    "        print(f\"Node {nodes[i]} connects to {node_connections[i]}\") \n",
    "    #getting M value (upper bound of randomized arc weights)\n",
    "    m = int(input(\"Please Enter Your m Value(upper bound of randomized arc weights): \"))\n",
    "    \n",
    "    #storing dict representation of connections\n",
    "    all_conns = []\n",
    "    #loop through node connections and create temp dicts with node:weight\n",
    "    for n in node_connections:\n",
    "        temp_dict = {}\n",
    "        for i in n:\n",
    "            temp_dict[i] = random.randint(1, m)\n",
    "        all_conns.append(temp_dict)\n",
    "    \n",
    "    #creation of graph dict\n",
    "    graph = {}\n",
    "    for i in range(len(nodes)-1):\n",
    "        graph[nodes[i]] = all_conns[i]\n",
    "    graph['T'] = {}\n",
    "    return (graph, m)"
   ]
  },
  {
   "cell_type": "code",
   "execution_count": 26,
   "metadata": {},
   "outputs": [],
   "source": [
    "#conversion to igraph to present shortest graph and all s-t paths possible\n",
    "def solve_graph(graph):\n",
    "    #retrieving nodes, edges and weights\n",
    "    labels = [i for i in graph.keys()]\n",
    "    #getting weights of arcs in order for edges\n",
    "    nested_weights = [[i for i in j.values()] for j in graph.values()]\n",
    "    #flattening nested list\n",
    "    weights = [weight for i in nested_weights for weight in i]\n",
    "    #need to loop through dict, pairing key with subkeys in tuples - e.g., (S, E), (S, G)\n",
    "    edgs = [[(i[0], j) for j in i[1].keys()] for i in graph.items()]\n",
    "    pre_edges = [edge for i in edgs for edge in i]\n",
    "    #encode vertices from 0-len(nodes)\n",
    "    vertex_ids = {labels[i]: i for i in range(len(labels))}\n",
    "    edges = []\n",
    "    for edge in pre_edges:\n",
    "        edges.append((vertex_ids[edge[0]], vertex_ids[edge[1]]))\n",
    "    #Create graph\n",
    "    g = Graph(directed=True)\n",
    "\n",
    "    #add vertices\n",
    "    g.add_vertices(len(labels))\n",
    "    \n",
    "    #add edges between nodes\n",
    "    g.add_edges(edges)\n",
    "\n",
    "    #adding ids and labels to vertices\n",
    "    for i in range(len(g.vs)):\n",
    "        g.vs[i]['id']=i\n",
    "        g.vs[i]['label']=labels[i]\n",
    "\n",
    "    #adding weights and edge labels\n",
    "    g.es['weight'] = weights\n",
    "    g.es['label'] = weights\n",
    "    \n",
    "    #getting all s-t paths\n",
    "    all_paths = g.get_all_simple_paths(0, len(labels)-1)\n",
    "    \n",
    "    #shortest path with built in dijkstra's\n",
    "    shortest = g.get_shortest_paths(0, len(labels)-1)\n",
    "    \n",
    "    #getting minimum path\n",
    "    dijkstra = g.shortest_paths_dijkstra(source=0, target=len(labels)-1, weights=weights, mode='out')\n",
    "    length = int(dijkstra[0][0])\n",
    "    \n",
    "    #showing shortest path retrieved from Dijkstra's\n",
    "    print(f\"Shortest S-T (Least amount of steps): {convert(shortest[0], labels)}\\n\\nDijkstra's shortest Distance from S-T: {length}\\n\")\n",
    "    \n",
    "    #showing all possible s-t paths\n",
    "    paths = [convert(i, labels) for i in all_paths]\n",
    "    #print(f\"All possible S-T paths: {paths}\")\n",
    "    print(f\"Amount of unique S-T paths: {len(paths)}\")\n",
    "    \n",
    "    return (weights, labels, all_paths, shortest, length, g, dijkstra)"
   ]
  },
  {
   "cell_type": "code",
   "execution_count": 5,
   "metadata": {},
   "outputs": [],
   "source": [
    "#function that takes a path as integers and returns as nodes\n",
    "def convert(path, nodes):\n",
    "    encoding = {i:nodes[i] for i in range(len(nodes))}\n",
    "    new_path = [encoding[i] for i in path]\n",
    "    #return f\"Path: {', '.join(new_path)}\"\n",
    "    return new_path"
   ]
  },
  {
   "cell_type": "code",
   "execution_count": 6,
   "metadata": {},
   "outputs": [
    {
     "name": "stdout",
     "output_type": "stream",
     "text": [
      "Please enter all nodes (Comma seperated, e.g., 'S, E, G, H, U, T')\n",
      "Your Input: S, E, G, W, J, K, T\n",
      "All nodes: ('S', 'E', 'G', 'W', 'J', 'K', 'T')\n",
      "Please enter all nodes that node S connects to, from left to right (Comma seperated, e.g., 'H, G, T')\n",
      "Your Input: E, G\n",
      "Please enter all nodes that node E connects to, from left to right (Comma seperated, e.g., 'H, G, T')\n",
      "Your Input: W, J\n",
      "Please enter all nodes that node G connects to, from left to right (Comma seperated, e.g., 'H, G, T')\n",
      "Your Input: J\n",
      "Please enter all nodes that node W connects to, from left to right (Comma seperated, e.g., 'H, G, T')\n",
      "Your Input: K, T\n",
      "Please enter all nodes that node J connects to, from left to right (Comma seperated, e.g., 'H, G, T')\n",
      "Your Input: K\n",
      "Please enter all nodes that node K connects to, from left to right (Comma seperated, e.g., 'H, G, T')\n",
      "Your Input: T\n",
      "Node S connects to ['E', 'G']\n",
      "Node E connects to ['W', 'J']\n",
      "Node G connects to ['J']\n",
      "Node W connects to ['K', 'T']\n",
      "Node J connects to ['K']\n",
      "Node K connects to ['T']\n",
      "Please Enter Your m Value(upper bound of randomized arc weights): 50\n"
     ]
    }
   ],
   "source": [
    "graph, m = create_graph()"
   ]
  },
  {
   "cell_type": "markdown",
   "metadata": {},
   "source": [
    "### Plotting Randomized User-Inputted Graph"
   ]
  },
  {
   "cell_type": "code",
   "execution_count": 7,
   "metadata": {
    "scrolled": true
   },
   "outputs": [
    {
     "data": {
      "text/plain": [
       "{'S': {'E': 44, 'G': 32},\n",
       " 'E': {'W': 43, 'J': 30},\n",
       " 'G': {'J': 10},\n",
       " 'W': {'K': 33, 'T': 26},\n",
       " 'J': {'K': 27},\n",
       " 'K': {'T': 21},\n",
       " 'T': {}}"
      ]
     },
     "execution_count": 7,
     "metadata": {},
     "output_type": "execute_result"
    }
   ],
   "source": [
    "#graph data representation\n",
    "graph"
   ]
  },
  {
   "cell_type": "code",
   "execution_count": 8,
   "metadata": {},
   "outputs": [
    {
     "data": {
      "image/svg+xml": [
       "<?xml version=\"1.0\" encoding=\"UTF-8\" standalone=\"no\"?>\r\n",
       "<!DOCTYPE svg PUBLIC \"-//W3C//DTD SVG 1.1//EN\"\r\n",
       " \"http://www.w3.org/Graphics/SVG/1.1/DTD/svg11.dtd\">\r\n",
       "<!-- Generated by graphviz version 2.38.0 (20140413.2041)\r\n",
       " -->\r\n",
       "<!-- Title: UsersDigraph Pages: 1 -->\r\n",
       "<svg width=\"109pt\" height=\"360pt\"\r\n",
       " viewBox=\"0.00 0.00 108.91 360.00\" xmlns=\"http://www.w3.org/2000/svg\" xmlns:xlink=\"http://www.w3.org/1999/xlink\">\r\n",
       "<g id=\"graph0\" class=\"graph\" transform=\"scale(0.9114 0.9114) rotate(0) translate(4 390.997)\">\r\n",
       "<title>UsersDigraph</title>\r\n",
       "<polygon fill=\"white\" stroke=\"none\" points=\"-4,4 -4,-390.997 115.498,-390.997 115.498,4 -4,4\"/>\r\n",
       "<!-- S -->\r\n",
       "<g id=\"node1\" class=\"node\"><title>S</title>\r\n",
       "<ellipse fill=\"none\" stroke=\"black\" cx=\"65.4983\" cy=\"-368.997\" rx=\"18\" ry=\"18\"/>\r\n",
       "<text text-anchor=\"middle\" x=\"65.4983\" y=\"-365.297\" font-family=\"Times New Roman,serif\" font-size=\"14.00\">S</text>\r\n",
       "</g>\r\n",
       "<!-- E -->\r\n",
       "<g id=\"node2\" class=\"node\"><title>E</title>\r\n",
       "<ellipse fill=\"none\" stroke=\"black\" cx=\"39.4983\" cy=\"-281.997\" rx=\"18\" ry=\"18\"/>\r\n",
       "<text text-anchor=\"middle\" x=\"39.4983\" y=\"-278.297\" font-family=\"Times New Roman,serif\" font-size=\"14.00\">E</text>\r\n",
       "</g>\r\n",
       "<!-- S&#45;&gt;E -->\r\n",
       "<g id=\"edge1\" class=\"edge\"><title>S&#45;&gt;E</title>\r\n",
       "<path fill=\"none\" stroke=\"black\" d=\"M59.2005,-352.084C56.9508,-346.14 54.4837,-339.303 52.4983,-332.997 50.1281,-325.468 47.8513,-317.207 45.8837,-309.607\"/>\r\n",
       "<polygon fill=\"black\" stroke=\"black\" points=\"49.2465,-308.628 43.4126,-299.784 42.4579,-310.335 49.2465,-308.628\"/>\r\n",
       "<text text-anchor=\"middle\" x=\"59.4983\" y=\"-321.797\" font-family=\"Times New Roman,serif\" font-size=\"14.00\">44</text>\r\n",
       "</g>\r\n",
       "<!-- G -->\r\n",
       "<g id=\"node3\" class=\"node\"><title>G</title>\r\n",
       "<ellipse fill=\"none\" stroke=\"black\" cx=\"93.4983\" cy=\"-281.997\" rx=\"18\" ry=\"18\"/>\r\n",
       "<text text-anchor=\"middle\" x=\"93.4983\" y=\"-278.297\" font-family=\"Times New Roman,serif\" font-size=\"14.00\">G</text>\r\n",
       "</g>\r\n",
       "<!-- S&#45;&gt;G -->\r\n",
       "<g id=\"edge2\" class=\"edge\"><title>S&#45;&gt;G</title>\r\n",
       "<path fill=\"none\" stroke=\"black\" d=\"M70.897,-351.608C74.8867,-339.496 80.3981,-322.765 84.9796,-308.857\"/>\r\n",
       "<polygon fill=\"black\" stroke=\"black\" points=\"88.3116,-309.928 88.1162,-299.335 81.6631,-307.738 88.3116,-309.928\"/>\r\n",
       "<text text-anchor=\"middle\" x=\"88.4983\" y=\"-321.797\" font-family=\"Times New Roman,serif\" font-size=\"14.00\">32</text>\r\n",
       "</g>\r\n",
       "<!-- W -->\r\n",
       "<g id=\"node4\" class=\"node\"><title>W</title>\r\n",
       "<ellipse fill=\"none\" stroke=\"black\" cx=\"19.4983\" cy=\"-193.498\" rx=\"19.4965\" ry=\"19.4965\"/>\r\n",
       "<text text-anchor=\"middle\" x=\"19.4983\" y=\"-189.798\" font-family=\"Times New Roman,serif\" font-size=\"14.00\">W</text>\r\n",
       "</g>\r\n",
       "<!-- E&#45;&gt;W -->\r\n",
       "<g id=\"edge3\" class=\"edge\"><title>E&#45;&gt;W</title>\r\n",
       "<path fill=\"none\" stroke=\"black\" d=\"M29.7029,-266.667C26.0859,-260.573 22.4062,-253.216 20.4983,-245.997 18.6036,-238.828 17.8314,-230.9 17.6533,-223.457\"/>\r\n",
       "<polygon fill=\"black\" stroke=\"black\" points=\"21.1537,-223.417 17.7421,-213.387 14.154,-223.356 21.1537,-223.417\"/>\r\n",
       "<text text-anchor=\"middle\" x=\"27.4983\" y=\"-234.797\" font-family=\"Times New Roman,serif\" font-size=\"14.00\">43</text>\r\n",
       "</g>\r\n",
       "<!-- J -->\r\n",
       "<g id=\"node5\" class=\"node\"><title>J</title>\r\n",
       "<ellipse fill=\"none\" stroke=\"black\" cx=\"82.4983\" cy=\"-193.498\" rx=\"18\" ry=\"18\"/>\r\n",
       "<text text-anchor=\"middle\" x=\"82.4983\" y=\"-189.798\" font-family=\"Times New Roman,serif\" font-size=\"14.00\">J</text>\r\n",
       "</g>\r\n",
       "<!-- E&#45;&gt;J -->\r\n",
       "<g id=\"edge4\" class=\"edge\"><title>E&#45;&gt;J</title>\r\n",
       "<path fill=\"none\" stroke=\"black\" d=\"M47.1858,-265.532C53.6063,-252.617 62.8766,-233.969 70.3079,-219.02\"/>\r\n",
       "<polygon fill=\"black\" stroke=\"black\" points=\"73.5598,-220.341 74.8773,-209.829 67.2916,-217.225 73.5598,-220.341\"/>\r\n",
       "<text text-anchor=\"middle\" x=\"71.4983\" y=\"-234.797\" font-family=\"Times New Roman,serif\" font-size=\"14.00\">30</text>\r\n",
       "</g>\r\n",
       "<!-- G&#45;&gt;J -->\r\n",
       "<g id=\"edge5\" class=\"edge\"><title>G&#45;&gt;J</title>\r\n",
       "<path fill=\"none\" stroke=\"black\" d=\"M91.325,-263.907C89.7883,-251.823 87.6965,-235.375 85.935,-221.523\"/>\r\n",
       "<polygon fill=\"black\" stroke=\"black\" points=\"89.4007,-221.031 84.667,-211.552 82.4566,-221.914 89.4007,-221.031\"/>\r\n",
       "<text text-anchor=\"middle\" x=\"95.4983\" y=\"-234.797\" font-family=\"Times New Roman,serif\" font-size=\"14.00\">10</text>\r\n",
       "</g>\r\n",
       "<!-- K -->\r\n",
       "<g id=\"node6\" class=\"node\"><title>K</title>\r\n",
       "<ellipse fill=\"none\" stroke=\"black\" cx=\"62.4983\" cy=\"-105\" rx=\"18\" ry=\"18\"/>\r\n",
       "<text text-anchor=\"middle\" x=\"62.4983\" y=\"-101.3\" font-family=\"Times New Roman,serif\" font-size=\"14.00\">K</text>\r\n",
       "</g>\r\n",
       "<!-- W&#45;&gt;K -->\r\n",
       "<g id=\"edge6\" class=\"edge\"><title>W&#45;&gt;K</title>\r\n",
       "<path fill=\"none\" stroke=\"black\" d=\"M27.7891,-175.821C34.1344,-163.056 42.9858,-145.251 50.1618,-130.816\"/>\r\n",
       "<polygon fill=\"black\" stroke=\"black\" points=\"53.4933,-131.977 54.8107,-121.464 47.2251,-128.861 53.4933,-131.977\"/>\r\n",
       "<text text-anchor=\"middle\" x=\"52.4983\" y=\"-144.8\" font-family=\"Times New Roman,serif\" font-size=\"14.00\">33</text>\r\n",
       "</g>\r\n",
       "<!-- T -->\r\n",
       "<g id=\"node7\" class=\"node\"><title>T</title>\r\n",
       "<ellipse fill=\"none\" stroke=\"black\" cx=\"32.4983\" cy=\"-18\" rx=\"18\" ry=\"18\"/>\r\n",
       "<text text-anchor=\"middle\" x=\"32.4983\" y=\"-14.3\" font-family=\"Times New Roman,serif\" font-size=\"14.00\">T</text>\r\n",
       "</g>\r\n",
       "<!-- W&#45;&gt;T -->\r\n",
       "<g id=\"edge7\" class=\"edge\"><title>W&#45;&gt;T</title>\r\n",
       "<path fill=\"none\" stroke=\"black\" d=\"M19.0564,-173.779C18.7427,-152.655 18.7752,-117.287 21.4983,-87 22.7241,-73.3657 25.053,-58.3286 27.2534,-45.8692\"/>\r\n",
       "<polygon fill=\"black\" stroke=\"black\" points=\"30.76,-46.1514 29.1231,-35.6838 23.8751,-44.8875 30.76,-46.1514\"/>\r\n",
       "<text text-anchor=\"middle\" x=\"28.4983\" y=\"-101.3\" font-family=\"Times New Roman,serif\" font-size=\"14.00\">26</text>\r\n",
       "</g>\r\n",
       "<!-- J&#45;&gt;K -->\r\n",
       "<g id=\"edge8\" class=\"edge\"><title>J&#45;&gt;K</title>\r\n",
       "<path fill=\"none\" stroke=\"black\" d=\"M78.6421,-175.821C75.8199,-163.615 71.9318,-146.799 68.6785,-132.729\"/>\r\n",
       "<polygon fill=\"black\" stroke=\"black\" points=\"72.0055,-131.581 66.3426,-122.627 65.1854,-133.158 72.0055,-131.581\"/>\r\n",
       "<text text-anchor=\"middle\" x=\"80.4983\" y=\"-144.8\" font-family=\"Times New Roman,serif\" font-size=\"14.00\">27</text>\r\n",
       "</g>\r\n",
       "<!-- K&#45;&gt;T -->\r\n",
       "<g id=\"edge9\" class=\"edge\"><title>K&#45;&gt;T</title>\r\n",
       "<path fill=\"none\" stroke=\"black\" d=\"M56.714,-87.6111C52.4392,-75.4993 46.5341,-58.7682 41.6254,-44.8603\"/>\r\n",
       "<polygon fill=\"black\" stroke=\"black\" points=\"44.8935,-43.6036 38.2648,-35.3385 38.2926,-45.9333 44.8935,-43.6036\"/>\r\n",
       "<text text-anchor=\"middle\" x=\"56.4983\" y=\"-57.8\" font-family=\"Times New Roman,serif\" font-size=\"14.00\">21</text>\r\n",
       "</g>\r\n",
       "</g>\r\n",
       "</svg>\r\n"
      ],
      "text/plain": [
       "<graphviz.dot.Digraph at 0x1f044c8c880>"
      ]
     },
     "execution_count": 8,
     "metadata": {},
     "output_type": "execute_result"
    }
   ],
   "source": [
    "#creating graph\n",
    "g = Digraph('UsersDigraph', filename='UsersDigraph.gv')\n",
    "g.attr(size='8,5')\n",
    "g.attr('node', shape='circle')\n",
    "#loop through keys to get all nodes\n",
    "for node in graph.keys():\n",
    "    g.node(node)\n",
    "#nested loop to create all edges\n",
    "for node, connections in graph.items():\n",
    "    for con_node, arc_length in connections.items():\n",
    "        g.edge(node, con_node, label=str(arc_length))\n",
    "#showing graph\n",
    "g"
   ]
  },
  {
   "cell_type": "markdown",
   "metadata": {},
   "source": [
    "### Getting Shortest Path"
   ]
  },
  {
   "cell_type": "code",
   "execution_count": 27,
   "metadata": {},
   "outputs": [
    {
     "name": "stdout",
     "output_type": "stream",
     "text": [
      "Shortest S-T (Least amount of steps): ['S', 'E', 'W', 'T']\n",
      "\n",
      "Dijkstra's shortest Distance from S-T: 90\n",
      "\n",
      "Amount of unique S-T paths: 4\n"
     ]
    }
   ],
   "source": [
    "solved = solve_graph(graph)"
   ]
  },
  {
   "cell_type": "markdown",
   "metadata": {},
   "source": [
    "### Plotting Minimum Path iGraph"
   ]
  },
  {
   "cell_type": "code",
   "execution_count": 1,
   "metadata": {},
   "outputs": [],
   "source": [
    "#g = solved[5]\n",
    "#plot(g.subgraph([int(i) for i in solved[3][0]]))"
   ]
  },
  {
   "cell_type": "markdown",
   "metadata": {},
   "source": [
    "### Plotting Minimum Path Graphviz"
   ]
  },
  {
   "cell_type": "code",
   "execution_count": 15,
   "metadata": {},
   "outputs": [],
   "source": [
    "#tuple loop through shortest path\n",
    "shortest = convert(solved[3][0], solved[1])\n",
    "i = 0\n",
    "tuples = []\n",
    "while i<len(shortest)-1:\n",
    "    tuples.append(shortest[i:i+2])\n",
    "    i += 1\n",
    "#list of all arcs needed for minimum\n",
    "arcs = [tuple(i) for i in tuples]"
   ]
  },
  {
   "cell_type": "code",
   "execution_count": 16,
   "metadata": {},
   "outputs": [
    {
     "data": {
      "image/svg+xml": [
       "<?xml version=\"1.0\" encoding=\"UTF-8\" standalone=\"no\"?>\r\n",
       "<!DOCTYPE svg PUBLIC \"-//W3C//DTD SVG 1.1//EN\"\r\n",
       " \"http://www.w3.org/Graphics/SVG/1.1/DTD/svg11.dtd\">\r\n",
       "<!-- Generated by graphviz version 2.38.0 (20140413.2041)\r\n",
       " -->\r\n",
       "<!-- Title: ShortestPath Pages: 1 -->\r\n",
       "<svg width=\"44pt\" height=\"288pt\"\r\n",
       " viewBox=\"0.00 0.00 43.95 288.00\" xmlns=\"http://www.w3.org/2000/svg\" xmlns:xlink=\"http://www.w3.org/1999/xlink\">\r\n",
       "<g id=\"graph0\" class=\"graph\" transform=\"scale(0.935075 0.935075) rotate(0) translate(4 303.997)\">\r\n",
       "<title>ShortestPath</title>\r\n",
       "<polygon fill=\"white\" stroke=\"none\" points=\"-4,4 -4,-303.997 42.9965,-303.997 42.9965,4 -4,4\"/>\r\n",
       "<!-- S -->\r\n",
       "<g id=\"node1\" class=\"node\"><title>S</title>\r\n",
       "<ellipse fill=\"none\" stroke=\"black\" cx=\"19.4983\" cy=\"-281.997\" rx=\"18\" ry=\"18\"/>\r\n",
       "<text text-anchor=\"middle\" x=\"19.4983\" y=\"-278.297\" font-family=\"Times New Roman,serif\" font-size=\"14.00\">S</text>\r\n",
       "</g>\r\n",
       "<!-- E -->\r\n",
       "<g id=\"node2\" class=\"node\"><title>E</title>\r\n",
       "<ellipse fill=\"none\" stroke=\"black\" cx=\"19.4983\" cy=\"-194.997\" rx=\"18\" ry=\"18\"/>\r\n",
       "<text text-anchor=\"middle\" x=\"19.4983\" y=\"-191.297\" font-family=\"Times New Roman,serif\" font-size=\"14.00\">E</text>\r\n",
       "</g>\r\n",
       "<!-- S&#45;&gt;E -->\r\n",
       "<g id=\"edge1\" class=\"edge\"><title>S&#45;&gt;E</title>\r\n",
       "<path fill=\"none\" stroke=\"black\" d=\"M19.4983,-263.796C19.4983,-252.159 19.4983,-236.544 19.4983,-223.233\"/>\r\n",
       "<polygon fill=\"black\" stroke=\"black\" points=\"22.9984,-223.172 19.4983,-213.172 15.9984,-223.172 22.9984,-223.172\"/>\r\n",
       "<text text-anchor=\"middle\" x=\"26.4983\" y=\"-234.797\" font-family=\"Times New Roman,serif\" font-size=\"14.00\">44</text>\r\n",
       "</g>\r\n",
       "<!-- W -->\r\n",
       "<g id=\"node3\" class=\"node\"><title>W</title>\r\n",
       "<ellipse fill=\"none\" stroke=\"black\" cx=\"19.4983\" cy=\"-106.498\" rx=\"19.4965\" ry=\"19.4965\"/>\r\n",
       "<text text-anchor=\"middle\" x=\"19.4983\" y=\"-102.798\" font-family=\"Times New Roman,serif\" font-size=\"14.00\">W</text>\r\n",
       "</g>\r\n",
       "<!-- E&#45;&gt;W -->\r\n",
       "<g id=\"edge2\" class=\"edge\"><title>E&#45;&gt;W</title>\r\n",
       "<path fill=\"none\" stroke=\"black\" d=\"M19.4983,-176.907C19.4983,-165.33 19.4983,-149.747 19.4983,-136.28\"/>\r\n",
       "<polygon fill=\"black\" stroke=\"black\" points=\"22.9984,-136.049 19.4983,-126.049 15.9984,-136.049 22.9984,-136.049\"/>\r\n",
       "<text text-anchor=\"middle\" x=\"26.4983\" y=\"-147.797\" font-family=\"Times New Roman,serif\" font-size=\"14.00\">43</text>\r\n",
       "</g>\r\n",
       "<!-- T -->\r\n",
       "<g id=\"node4\" class=\"node\"><title>T</title>\r\n",
       "<ellipse fill=\"none\" stroke=\"black\" cx=\"19.4983\" cy=\"-18\" rx=\"18\" ry=\"18\"/>\r\n",
       "<text text-anchor=\"middle\" x=\"19.4983\" y=\"-14.3\" font-family=\"Times New Roman,serif\" font-size=\"14.00\">T</text>\r\n",
       "</g>\r\n",
       "<!-- W&#45;&gt;T -->\r\n",
       "<g id=\"edge3\" class=\"edge\"><title>W&#45;&gt;T</title>\r\n",
       "<path fill=\"none\" stroke=\"black\" d=\"M19.4983,-86.7294C19.4983,-75.0064 19.4983,-59.7052 19.4983,-46.6131\"/>\r\n",
       "<polygon fill=\"black\" stroke=\"black\" points=\"22.9984,-46.2623 19.4983,-36.2623 15.9984,-46.2623 22.9984,-46.2623\"/>\r\n",
       "<text text-anchor=\"middle\" x=\"26.4983\" y=\"-57.8\" font-family=\"Times New Roman,serif\" font-size=\"14.00\">26</text>\r\n",
       "</g>\r\n",
       "</g>\r\n",
       "</svg>\r\n"
      ],
      "text/plain": [
       "<graphviz.dot.Digraph at 0x1f046f8f970>"
      ]
     },
     "execution_count": 16,
     "metadata": {},
     "output_type": "execute_result"
    }
   ],
   "source": [
    "#creating graph\n",
    "g = Digraph('ShortestPath', filename='ShortestPath.gv')\n",
    "g.attr(size='4,4')\n",
    "g.attr('node', shape='circle')\n",
    "#loop through keys to get all nodes\n",
    "for node in shortest:\n",
    "    g.node(node)\n",
    "#loop to create edges\n",
    "for arc in arcs:\n",
    "    #print(f\"Initial arc: {arc[0]}, connected to: {arc[1]}, with weight: {graph[arc[0]][arc[1]]}\")\n",
    "    g.edge(arc[0], arc[1], label=str(graph[arc[0]][arc[1]]))\n",
    "#showing graph\n",
    "g"
   ]
  },
  {
   "cell_type": "markdown",
   "metadata": {},
   "source": [
    "### Minimum Spanning Tree"
   ]
  },
  {
   "cell_type": "code",
   "execution_count": 16,
   "metadata": {},
   "outputs": [],
   "source": [
    "#g = solved[5]\n",
    "#plot(g.spanning_tree())"
   ]
  },
  {
   "cell_type": "markdown",
   "metadata": {},
   "source": [
    "## Ta-Shma's Estimation using Isolation Lemma\n",
    "The probability that there will be a unique minimum path in the set of all unique paths is given from the equation:\n",
    "(1-1/m)^n, where m is the user entered maximum of the randomized arc lengths, and n is the amount of unique paths in the set of all possible paths in the user entered graph\n"
   ]
  },
  {
   "cell_type": "code",
   "execution_count": 25,
   "metadata": {},
   "outputs": [
    {
     "name": "stdout",
     "output_type": "stream",
     "text": [
      "Ta Shma's Probability Estimation that this given smallest path is unique: 100.0%\n"
     ]
    }
   ],
   "source": [
    "print(f\"Ta Shma's Probability Estimation that this given smallest path is unique: {round(1 - (1/m)**len(solved[1]), 2)*100}%\")"
   ]
  },
  {
   "cell_type": "code",
   "execution_count": null,
   "metadata": {},
   "outputs": [],
   "source": []
  }
 ],
 "metadata": {
  "kernelspec": {
   "display_name": "Python 3",
   "language": "python",
   "name": "python3"
  },
  "language_info": {
   "codemirror_mode": {
    "name": "ipython",
    "version": 3
   },
   "file_extension": ".py",
   "mimetype": "text/x-python",
   "name": "python",
   "nbconvert_exporter": "python",
   "pygments_lexer": "ipython3",
   "version": "3.8.3"
  }
 },
 "nbformat": 4,
 "nbformat_minor": 4
}
